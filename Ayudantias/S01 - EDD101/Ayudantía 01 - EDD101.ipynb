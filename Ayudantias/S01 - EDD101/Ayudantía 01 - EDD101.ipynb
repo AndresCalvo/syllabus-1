{
 "cells": [
  {
   "cell_type": "markdown",
   "metadata": {},
   "source": [
    "# Ayudantía 01\n",
    "\n",
    "### Estructuras de Datos: _Built-ins_\n",
    "\n",
    "**Benjamín Cárcamo y Enzo Tamburini**"
   ]
  },
  {
   "cell_type": "markdown",
   "metadata": {},
   "source": [
    "En todas las ayudantías tendrán un link hacia un form de google para que puedan dar sus impresiones de la ayudantía y del ayudante :)\n",
    "\n",
    "**Form de Feedback:** https://docs.google.com/forms/d/1rublnCunwYWYe2QxARiND1hS9WJ9jKLE6WJilA7rRvE\n",
    "\n",
    "Esta ayudantía será un poco diferente a las que sigan dado que se verán _casos de uso_ para cada una de las estructuras de datos dentro de los contenidos de esta semana."
   ]
  },
  {
   "cell_type": "markdown",
   "metadata": {},
   "source": [
    "### Repaso Archivos\n",
    "\n",
    "¿Cómo abríamos un archivo? :O "
   ]
  },
  {
   "cell_type": "code",
   "execution_count": null,
   "metadata": {
    "collapsed": true
   },
   "outputs": [],
   "source": []
  },
  {
   "cell_type": "code",
   "execution_count": null,
   "metadata": {
    "collapsed": true
   },
   "outputs": [],
   "source": []
  },
  {
   "cell_type": "code",
   "execution_count": null,
   "metadata": {
    "collapsed": true
   },
   "outputs": [],
   "source": []
  },
  {
   "cell_type": "code",
   "execution_count": null,
   "metadata": {
    "collapsed": true
   },
   "outputs": [],
   "source": []
  },
  {
   "cell_type": "markdown",
   "metadata": {},
   "source": [
    "---\n",
    "\n",
    "Algunos *imports* útiles para la ayudantía."
   ]
  },
  {
   "cell_type": "code",
   "execution_count": null,
   "metadata": {
    "collapsed": true
   },
   "outputs": [],
   "source": [
    "from collections import defaultdict, deque, namedtuple\n",
    "from sys import getsizeof as gso\n",
    "from time import time as t\n",
    "from random import shuffle"
   ]
  },
  {
   "cell_type": "markdown",
   "metadata": {},
   "source": [
    "### Estructura n°1 \n",
    "\n",
    "La empresa aerolínea PAW (_Progra Avanzada Wings_) tiene un problema de memoria. Tiene muchos destinos y cada uno de estos se modeló como un diccionario. Cada destino tiene nombre, pais, vuelo y precio. Debido a este problema te piden que lo ayudes reduciendo la memoria ocupada, haciendo que el código sea más ordenado y no quieren dejar que nadie modifique los datos."
   ]
  },
  {
   "cell_type": "code",
   "execution_count": null,
   "metadata": {
    "collapsed": true
   },
   "outputs": [],
   "source": [
    "# 'places.txt'"
   ]
  },
  {
   "cell_type": "markdown",
   "metadata": {},
   "source": [
    "## Estructura n°2\n",
    "\n",
    "HBO te ha contratado para que manejes su base de datos de huéspedes. Cada huesped posee un nombre y un apellido, sin embargo, para un mejor manejo del parque, a cada uno se le asignó un número de serie único. Se deben guardar estas entidades en una estructura de datos adecuada y crear una función que reciba un número de serie y esta estructura y que retorne al huesped con el rut entregado en un período corto de tiempo. \n",
    "\n",
    "La información de los huéspedes se encuentra en el archivo `huespedes.txt` en el formato número_de_serie;nombre;apellido."
   ]
  },
  {
   "cell_type": "code",
   "execution_count": null,
   "metadata": {
    "collapsed": true
   },
   "outputs": [],
   "source": [
    "# 'huespedes.txt'\n",
    "\n",
    "def funcion_requerida(n_serie, estructura_adecuada):\n",
    "    pass   "
   ]
  },
  {
   "cell_type": "markdown",
   "metadata": {},
   "source": [
    "## Estructura nº3\n",
    "\n",
    "Se tiene el archivo `direcciones.txt` con varias direcciones, pertenecientes a locales de varias cadenas de restoranes de comida rápida. Por cada cadena de comida rápida se tienen varias direcciones de locales de comida en Santiago. Debes guardar las direcciones de manera que, dado un local, podamos obtener el listado de direcciones de manera rápida. \n",
    "\n",
    "El formato del archivo `direcciones.txt` es `local;direccion`."
   ]
  },
  {
   "cell_type": "code",
   "execution_count": null,
   "metadata": {
    "collapsed": true
   },
   "outputs": [],
   "source": [
    "# 'direcciones_locales'\n"
   ]
  },
  {
   "cell_type": "code",
   "execution_count": null,
   "metadata": {
    "collapsed": true
   },
   "outputs": [],
   "source": []
  },
  {
   "cell_type": "markdown",
   "metadata": {},
   "source": [
    "## Estructura nº4\n",
    "\n",
    "Hubo una filtración en el DCC (Departamento de Comida y Carrete) en que salieron a luz los tragos favoritos de los alumnos inscritos en sus cursos. Estos tragos se encuentran en un archivo llamado `tragos_favoritos.txt` y vienen en el formato github_alumno;trago_favorito. Pueden suponer que los *GitHubs* son únicos por cada alumno. Se te encomendó la tarea de guardar los tragos favoritos de cada alumno en una estructura de datos adecuada para que luego se puedan realizar consultas como:\n",
    "\n",
    "- Dados dos alumnos, cuáles son los tragos favoritos que comparten?\n",
    "- Dados dos alumnos, cuáles son los tragos favoritos del primero que no le gustan al segundo?\n",
    "\n",
    "De esta manera el DCC puede armar los proyectos de los ramos de manera \"inteligente\"."
   ]
  },
  {
   "cell_type": "code",
   "execution_count": null,
   "metadata": {
    "collapsed": true
   },
   "outputs": [],
   "source": [
    "# 'tragos_favoritos.txt' \n",
    "\n"
   ]
  },
  {
   "cell_type": "markdown",
   "metadata": {},
   "source": [
    "## Estructura nº5\n",
    "\n",
    "\n",
    "A los profesores de Programación Avanzada se les ocurrió la brillante idea de aprobar/reprobar a los alumnos según el orden de llegada a la sala. Según ellos, los `X` primeros alumnos que llegan a la sala van a ser aprobados, mientras que los `Y` últimos, serán reprobados. Sin embargo, todavía no deciden la cantidad de `X` e `Y` por lo que te piden que almacenes a los alumnos en una estructura adecuada para la tarea.\n",
    "\n",
    "Los alumnos se encuentran en el archivo `alumnos.txt` y vienen en el formato nombre;apellido."
   ]
  },
  {
   "cell_type": "code",
   "execution_count": null,
   "metadata": {
    "collapsed": true
   },
   "outputs": [],
   "source": [
    "# \"alumnos.txt\"\n"
   ]
  },
  {
   "cell_type": "code",
   "execution_count": null,
   "metadata": {
    "collapsed": true
   },
   "outputs": [],
   "source": []
  },
  {
   "cell_type": "code",
   "execution_count": null,
   "metadata": {
    "collapsed": true
   },
   "outputs": [],
   "source": []
  }
 ],
 "metadata": {
  "kernelspec": {
   "display_name": "Python 3",
   "language": "python",
   "name": "python3"
  },
  "language_info": {
   "codemirror_mode": {
    "name": "ipython",
    "version": 3
   },
   "file_extension": ".py",
   "mimetype": "text/x-python",
   "name": "python",
   "nbconvert_exporter": "python",
   "pygments_lexer": "ipython3",
   "version": "3.5.2"
  }
 },
 "nbformat": 4,
 "nbformat_minor": 2
}
